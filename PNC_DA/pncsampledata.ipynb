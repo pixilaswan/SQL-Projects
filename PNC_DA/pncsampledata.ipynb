import pandas as pd
import numpy as np

# Define table structures
table_structures = {
    'Customer': {
        'Policy_ID': 'int',
        'Age': 'int',
        'Gender': 'str',
        'Region': 'str',
        'Income_Level': 'str',
        'Education_Level': 'str',
        'Marital_Status': 'str'
    },
    'Policy': {
        'Policy_ID': 'int',
        'Policy_Type': 'str',
        'Coverage_Amount': 'int',
        'Premium': 'int',
        'Renewal_Status': 'str',
        'Renewal_Offer': 'str'
    },
    'Vehicle': {
        'Policy_ID': 'int',
        'Vehicle_Type': 'str',
        'Accident_History': 'int',
        'Claim_Amount': 'int',
        'Claim_Status': 'str'
    },
    'Engagement': {
        'Policy_ID': 'int',
        'Customer_Satisfaction_Score': 'int',
        'Engagement_Score': 'int',
        'Policy_Tenure': 'int',
        'Discounts_Offered': 'str'
    }
}

# Function to generate sample data
def generate_sample_data(table_name, num_rows):
    data = {}
    for column, dtype in table_structures[table_name].items():
        if dtype == 'int':
            if column == 'Policy_ID':
                data[column] = range(1, num_rows + 1)
            elif column == 'Age':
                data[column] = np.random.randint(18, 70, num_rows)
            elif column == 'Accident_History':
                data[column] = np.random.randint(0, 5, num_rows)
            elif column == 'Coverage_Amount':
                data[column] = np.random.randint(10000, 100000, num_rows)
            elif column == 'Premium':
                data[column] = np.random.randint(500, 5000, num_rows)
            elif column == 'Claim_Amount':
                data[column] = np.random.randint(500, 10000, num_rows)
            elif column == 'Customer_Satisfaction_Score':
                data[column] = np.random.randint(1, 11, num_rows)
            elif column == 'Engagement_Score':
                data[column] = np.random.randint(1, 11, num_rows)
            elif column == 'Policy_Tenure':
                data[column] = np.random.randint(1, 20, num_rows)
        elif dtype == 'str':
            if column == 'Gender':
                data[column] = np.random.choice(['Male', 'Female'], num_rows)
            elif column == 'Region':
                data[column] = np.random.choice(['North', 'South', 'East', 'West'], num_rows)
            elif column == 'Income_Level':
                data[column] = np.random.choice(['Low', 'Medium', 'High'], num_rows)
            elif column == 'Education_Level':
                data[column] = np.random.choice(['High School', 'Bachelor', 'Master', 'PhD'], num_rows)
            elif column == 'Marital_Status':
                data[column] = np.random.choice(['Single', 'Married', 'Divorced'], num_rows)
            elif column == 'Policy_Type':
                data[column] = np.random.choice(['Basic', 'Premium', 'Comprehensive'], num_rows)
            elif column == 'Vehicle_Type':
                data[column] = np.random.choice(['Sedan', 'SUV', 'Truck', 'Motorcycle'], num_rows)
            elif column == 'Renewal_Status':
                data[column] = np.random.choice(['Yes', 'No'], num_rows)
            elif column == 'Renewal_Offer':
                data[column] = np.random.choice(['Yes', 'No'], num_rows)
            elif column == 'Claim_Status':
                data[column] = np.random.choice(['Yes', 'No'], num_rows)
            elif column == 'Discounts_Offered':
                data[column] = np.random.choice(['Yes', 'No'], num_rows)
    
    df = pd.DataFrame(data)
    return df

# Generate and save sample data for each table
num_rows = 100
for table_name in table_structures.keys():
    df = generate_sample_data(table_name, num_rows)
    df.to_csv(f'{table_name}.csv', index=False)
